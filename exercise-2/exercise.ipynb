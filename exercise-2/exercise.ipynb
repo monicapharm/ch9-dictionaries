{
 "cells": [
  {
   "cell_type": "markdown",
   "metadata": {},
   "source": [
    "# Exercise 2\n",
    "Add the specified code for each code cell, running the cells _in order_."
   ]
  },
  {
   "cell_type": "markdown",
   "metadata": {},
   "source": [
    "Open the included **`data/words_small.txt`** file (containing a \"small\" list of English words) and `read()` it into a single string variable **`words_str`**. Then print the first 100 _characters_ of the `words_str` variable (use a slice operator!)"
   ]
  },
  {
   "cell_type": "code",
   "execution_count": 5,
   "metadata": {},
   "outputs": [
    {
     "name": "stdout",
     "output_type": "stream",
     "text": [
      "abbreviate\n",
      "abbreviation\n",
      "abdomen\n",
      "able\n",
      "aboard\n",
      "abroad\n",
      "absent\n",
      "absolute\n",
      "abuse\n",
      "academic\n",
      "academy\n",
      "accelerate\n"
     ]
    }
   ],
   "source": [
    "with open(\"data/words_small.txt\") as my_file:\n",
    "    words_str = my_file.read()\n",
    "print(words_str[:100])    "
   ]
  },
  {
   "cell_type": "markdown",
   "metadata": {},
   "source": [
    "**Using a loop**, count the number of times the newline character `\\n` appears in the `words_str`. This should tell you the number of words in the file (plus or minus one). You can check your work with the built-in `count()` string method (but use the loop for practice!)"
   ]
  },
  {
   "cell_type": "code",
   "execution_count": 12,
   "metadata": {},
   "outputs": [
    {
     "name": "stdout",
     "output_type": "stream",
     "text": [
      "1520\n",
      "1520\n"
     ]
    }
   ],
   "source": [
    "count = 0\n",
    "for char in words_str:\n",
    "    if char == '\\n':\n",
    "        count += 1\n",
    "print(count)        \n",
    "print(words_str.count('\\n'))"
   ]
  },
  {
   "cell_type": "markdown",
   "metadata": {},
   "source": [
    "Create a variable **`letter_counts`** that is a dictionary whose keys are characters (letters) and whose values are the number of times that character appears in `words_str`. Print the dictionary after you make it.\n",
    "- To do this, start with an empty dictionary, then loop through the letters one at a time. At each letter, increase the value associated with that letter key by one.\n",
    "- Watch out for if the letter is not in the dictionary yet!\n",
    "- Also _delete_ the entry for the newline `\\n` character"
   ]
  },
  {
   "cell_type": "code",
   "execution_count": 15,
   "metadata": {},
   "outputs": [
    {
     "name": "stdout",
     "output_type": "stream",
     "text": [
      "{'a': 703, 'b': 188, 'r': 642, 'e': 1118, 'v': 85, 'i': 515, 't': 604, 'o': 598, 'n': 550, 'd': 314, 'm': 223, 'l': 457, 's': 504, 'u': 279, 'c': 328, 'y': 189, 'p': 224, 'h': 295, 'f': 155, 'w': 161, 'g': 213, 'k': 126, 'z': 15, 'x': 23, 'j': 16, 'q': 9}\n"
     ]
    }
   ],
   "source": [
    "letter_counts = {}\n",
    "for key in words_str:\n",
    "    if key == '\\n':\n",
    "        continue\n",
    "    if letter_counts.get(key, 0) == 0: \n",
    "        letter_counts[key] = 1\n",
    "    else:\n",
    "        letter_counts[key] += 1\n",
    "print(letter_counts)    "
   ]
  },
  {
   "cell_type": "markdown",
   "metadata": {},
   "source": [
    "Print out all the count in the `letter_counts` dictionary in the format `\"A appears 703 times\"`, each on a new line, in alphabetical order. _Hint_: iterate through the sorted keys!"
   ]
  },
  {
   "cell_type": "code",
   "execution_count": 24,
   "metadata": {},
   "outputs": [
    {
     "name": "stdout",
     "output_type": "stream",
     "text": [
      "['a', 'b', 'c', 'd', 'e', 'f', 'g', 'h', 'i', 'j', 'k', 'l', 'm', 'n', 'o', 'p', 'q', 'r', 's', 't', 'u', 'v', 'w', 'x', 'y', 'z']\n",
      "A appears 703 times\n",
      "B appears 188 times\n",
      "C appears 328 times\n",
      "D appears 314 times\n",
      "E appears 1118 times\n",
      "F appears 155 times\n",
      "G appears 213 times\n",
      "H appears 295 times\n",
      "I appears 515 times\n",
      "J appears 16 times\n",
      "K appears 126 times\n",
      "L appears 457 times\n",
      "M appears 223 times\n",
      "N appears 550 times\n",
      "O appears 598 times\n",
      "P appears 224 times\n",
      "Q appears 9 times\n",
      "R appears 642 times\n",
      "S appears 504 times\n",
      "T appears 604 times\n",
      "U appears 279 times\n",
      "V appears 85 times\n",
      "W appears 161 times\n",
      "X appears 23 times\n",
      "Y appears 189 times\n",
      "Z appears 15 times\n"
     ]
    }
   ],
   "source": [
    "keys = sorted(letter_counts.keys())\n",
    "print(keys)\n",
    "\n",
    "for key in keys:\n",
    "    print(key.upper(), \"appears\", letter_counts[key], \"times\")"
   ]
  },
  {
   "cell_type": "markdown",
   "metadata": {},
   "source": [
    "Print which letter from the `letter_counts` dictionary has a **value** of `515`. _Hint:_ use a loop to look through all the _items_ until you find the right one, then print that!"
   ]
  },
  {
   "cell_type": "code",
   "execution_count": 28,
   "metadata": {},
   "outputs": [
    {
     "name": "stdout",
     "output_type": "stream",
     "text": [
      "I\n"
     ]
    }
   ],
   "source": [
    "for key in keys:\n",
    "    if letter_counts[key] == 515:\n",
    "        print(key.upper())"
   ]
  },
  {
   "cell_type": "markdown",
   "metadata": {},
   "source": [
    "Create a variable **`count_to_letter_dict`** that is a dictionary whose **keys** are the counts and whose **values** are the letters that have that count. This is a _reverse lookup_ dictionary. Hint: ceate a new dictionary, then loop through items in `letter_counts` and add an item to your new dictionary for each element. You can assume no duplicated counts."
   ]
  },
  {
   "cell_type": "code",
   "execution_count": 27,
   "metadata": {},
   "outputs": [
    {
     "name": "stdout",
     "output_type": "stream",
     "text": [
      "{703: 'a', 188: 'b', 328: 'c', 314: 'd', 1118: 'e', 155: 'f', 213: 'g', 295: 'h', 515: 'i', 16: 'j', 126: 'k', 457: 'l', 223: 'm', 550: 'n', 598: 'o', 224: 'p', 9: 'q', 642: 'r', 504: 's', 604: 't', 279: 'u', 85: 'v', 161: 'w', 23: 'x', 189: 'y', 15: 'z'}\n"
     ]
    }
   ],
   "source": [
    "count_to_letter_dict = {}\n",
    "for key in keys:\n",
    "    value = letter_counts[key]\n",
    "    count_to_letter_dict[value] = key\n",
    "print(count_to_letter_dict)"
   ]
  },
  {
   "cell_type": "markdown",
   "metadata": {},
   "source": [
    "Print the **10** most common letters and their counts with the format `\"A appears 703 times\"`. _Hint:_ you'll need to sort the keys to `count_to_letter_dict` and take the first 10 of those."
   ]
  },
  {
   "cell_type": "code",
   "execution_count": 61,
   "metadata": {},
   "outputs": [
    {
     "name": "stdout",
     "output_type": "stream",
     "text": [
      "c appears 328 times\n",
      "l appears 457 times\n",
      "s appears 504 times\n",
      "i appears 515 times\n",
      "n appears 550 times\n",
      "o appears 598 times\n",
      "t appears 604 times\n",
      "r appears 642 times\n",
      "a appears 703 times\n",
      "e appears 1118 times\n",
      "[328, 457, 504, 515, 550, 598, 604, 642, 703, 1118]\n"
     ]
    }
   ],
   "source": [
    "dict = sorted(count_to_letter_dict)\n",
    "for i in dict[-10:]:\n",
    "    print(count_to_letter_dict[i], 'appears', i, 'times')\n",
    "print(dict[-10:])"
   ]
  },
  {
   "cell_type": "markdown",
   "metadata": {},
   "source": [
    "Bonus: repeat your analysis on the `data/words_huge.txt` file! Are the top letters the same?"
   ]
  }
 ],
 "metadata": {
  "kernelspec": {
   "display_name": "Python 3",
   "language": "python",
   "name": "python3"
  },
  "language_info": {
   "codemirror_mode": {
    "name": "ipython",
    "version": 3
   },
   "file_extension": ".py",
   "mimetype": "text/x-python",
   "name": "python",
   "nbconvert_exporter": "python",
   "pygments_lexer": "ipython3",
   "version": "3.6.2"
  },
  "toc": {
   "colors": {
    "hover_highlight": "#DAA520",
    "running_highlight": "#FF0000",
    "selected_highlight": "#FFD700"
   },
   "moveMenuLeft": true,
   "nav_menu": {
    "height": "30px",
    "width": "252px"
   },
   "navigate_menu": true,
   "number_sections": true,
   "sideBar": true,
   "threshold": 4,
   "toc_cell": false,
   "toc_section_display": "block",
   "toc_window_display": false,
   "widenNotebook": false
  }
 },
 "nbformat": 4,
 "nbformat_minor": 2
}
